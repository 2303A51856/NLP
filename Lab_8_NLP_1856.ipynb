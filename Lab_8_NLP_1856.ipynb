{
  "nbformat": 4,
  "nbformat_minor": 0,
  "metadata": {
    "colab": {
      "provenance": [],
      "authorship_tag": "ABX9TyOcpFpJ8TQ9eY9xCJGJjAoh",
      "include_colab_link": true
    },
    "kernelspec": {
      "name": "python3",
      "display_name": "Python 3"
    },
    "language_info": {
      "name": "python"
    }
  },
  "cells": [
    {
      "cell_type": "markdown",
      "metadata": {
        "id": "view-in-github",
        "colab_type": "text"
      },
      "source": [
        "<a href=\"https://colab.research.google.com/github/2303A51856/NLP/blob/main/Lab_8_NLP_1856.ipynb\" target=\"_parent\"><img src=\"https://colab.research.google.com/assets/colab-badge.svg\" alt=\"Open In Colab\"/></a>"
      ]
    },
    {
      "cell_type": "code",
      "source": [
        "\n",
        "!pip install nltk gensim scikit-learn matplotlib pandas --quiet\n",
        "\n",
        "import re\n",
        "import nltk\n",
        "import pandas as pd\n",
        "import matplotlib.pyplot as plt\n",
        "from sklearn.manifold import TSNE\n",
        "from sklearn.feature_extraction.text import TfidfVectorizer\n",
        "from sklearn.model_selection import train_test_split\n",
        "from sklearn.naive_bayes import MultinomialNB\n",
        "from sklearn.metrics import classification_report, accuracy_score, confusion_matrix\n",
        "from gensim.models import Word2Vec\n",
        "from nltk.tag import hmm\n",
        "\n",
        "\n",
        "nltk.download('punkt')\n",
        "nltk.download('averaged_perceptron_tagger')\n",
        "nltk.download('universal_tagset')\n"
      ],
      "metadata": {
        "colab": {
          "base_uri": "https://localhost:8080/"
        },
        "id": "mZXaY34s6ZIe",
        "outputId": "9ce4508f-0548-41aa-f0c4-2ae66cf33886"
      },
      "execution_count": 20,
      "outputs": [
        {
          "output_type": "stream",
          "name": "stderr",
          "text": [
            "[nltk_data] Downloading package punkt to /root/nltk_data...\n",
            "[nltk_data]   Package punkt is already up-to-date!\n",
            "[nltk_data] Downloading package averaged_perceptron_tagger to\n",
            "[nltk_data]     /root/nltk_data...\n",
            "[nltk_data]   Package averaged_perceptron_tagger is already up-to-\n",
            "[nltk_data]       date!\n",
            "[nltk_data] Downloading package universal_tagset to /root/nltk_data...\n",
            "[nltk_data]   Package universal_tagset is already up-to-date!\n"
          ]
        },
        {
          "output_type": "execute_result",
          "data": {
            "text/plain": [
              "True"
            ]
          },
          "metadata": {},
          "execution_count": 20
        }
      ]
    },
    {
      "cell_type": "code",
      "source": [
        "\n",
        "df = pd.read_csv(\"/content/tweets.csv\")\n",
        "\n",
        "print(\"Dataset Loaded Successfully!\")\n",
        "print(\"Shape:\", df.shape)\n",
        "print(\"\\nColumns:\", df.columns.tolist())\n",
        "print(\"\\nSample Data:\")\n",
        "print(df.head())\n",
        "\n",
        "\n",
        "if 'text' in df.columns:\n",
        "    tweets_raw = df['text'].astype(str).tolist()\n",
        "else:\n",
        "\n",
        "    text_col = df.columns[0]\n",
        "    print(f\"⚠️ Using '{text_col}' as text column (adjust if wrong)\")\n",
        "    tweets_raw = df[text_col].astype(str).tolist()\n"
      ],
      "metadata": {
        "colab": {
          "base_uri": "https://localhost:8080/"
        },
        "id": "Zho35eix6h8K",
        "outputId": "f19ea2d2-d8b7-4011-aad4-cdccad2a584c"
      },
      "execution_count": 21,
      "outputs": [
        {
          "output_type": "stream",
          "name": "stdout",
          "text": [
            "Dataset Loaded Successfully!\n",
            "Shape: (11370, 5)\n",
            "\n",
            "Columns: ['id', 'keyword', 'location', 'text', 'target']\n",
            "\n",
            "Sample Data:\n",
            "   id keyword        location  \\\n",
            "0   0  ablaze             NaN   \n",
            "1   1  ablaze             NaN   \n",
            "2   2  ablaze   New York City   \n",
            "3   3  ablaze  Morgantown, WV   \n",
            "4   4  ablaze             NaN   \n",
            "\n",
            "                                                text  target  \n",
            "0  Communal violence in Bhainsa, Telangana. \"Ston...       1  \n",
            "1  Telangana: Section 144 has been imposed in Bha...       1  \n",
            "2  Arsonist sets cars ablaze at dealership https:...       1  \n",
            "3  Arsonist sets cars ablaze at dealership https:...       1  \n",
            "4  \"Lord Jesus, your love brings freedom and pard...       0  \n"
          ]
        }
      ]
    },
    {
      "cell_type": "code",
      "source": [
        "\n",
        "url_re = re.compile(r'https?://\\S+|www\\.\\S+')\n",
        "mention_re = re.compile(r'@\\w+')\n",
        "hashtag_re = re.compile(r'#\\w+')\n",
        "non_alphanum = re.compile(r'[^0-9a-zA-Z\\s]')\n",
        "\n",
        "def preprocess(text):\n",
        "    text = text.lower()\n",
        "    text = url_re.sub('', text)\n",
        "    text = mention_re.sub('', text)\n",
        "    text = hashtag_re.sub('', text)\n",
        "    text = non_alphanum.sub(' ', text)\n",
        "    text = re.sub(r'\\s+', ' ', text).strip()\n",
        "    return text\n",
        "\n",
        "tweets = [preprocess(t) for t in tweets_raw]\n",
        "\n",
        "print(\"Preprocessing complete! Showing sample cleaned tweets:\")\n",
        "for t in tweets[:5]:\n",
        "    print(\"-\", t)\n"
      ],
      "metadata": {
        "colab": {
          "base_uri": "https://localhost:8080/"
        },
        "id": "Azrqvq1Y6uNv",
        "outputId": "f5bc499d-43fa-4754-ec5c-742c2f66bfc7"
      },
      "execution_count": 22,
      "outputs": [
        {
          "output_type": "stream",
          "name": "stdout",
          "text": [
            "Preprocessing complete! Showing sample cleaned tweets:\n",
            "- communal violence in bhainsa telangana stones were pelted on muslims houses and some houses and vehicles were set ablaze\n",
            "- telangana section 144 has been imposed in bhainsa from january 13 to 15 after clash erupted between two groups on january 12 po\n",
            "- arsonist sets cars ablaze at dealership\n",
            "- arsonist sets cars ablaze at dealership\n",
            "- lord jesus your love brings freedom and pardon fill me with your holy spirit and set my heart ablaze with your l\n"
          ]
        }
      ]
    },
    {
      "cell_type": "code",
      "source": [
        "\n",
        "tokenized = [nltk.word_tokenize(t) for t in tweets[:200]]\n",
        "tagged_bootstrap = [nltk.pos_tag(sent, tagset='universal') for sent in tokenized]\n",
        "\n",
        "trainer = hmm.HiddenMarkovModelTrainer()\n",
        "hmm_tagger = trainer.train_supervised(tagged_bootstrap[:-5])\n",
        "\n",
        "print(\"\\n POS Tagging Example Outputs:\\n\")\n",
        "for sent in tokenized[-5:]:\n",
        "    tagged = hmm_tagger.tag(sent)\n",
        "    print(\"Tweet:\", \" \".join(sent))\n",
        "    print(\"Tags :\", tagged)\n",
        "    print(\"-\"*60)\n"
      ],
      "metadata": {
        "colab": {
          "base_uri": "https://localhost:8080/"
        },
        "id": "5Q9SXFX160Ev",
        "outputId": "1956b333-e696-4303-f149-8c0515a29a95"
      },
      "execution_count": 23,
      "outputs": [
        {
          "output_type": "stream",
          "name": "stdout",
          "text": [
            "\n",
            " POS Tagging Example Outputs:\n",
            "\n",
            "Tweet: the untamed boys singing love siren from my ambulance\n",
            "Tags : [('the', 'DET'), ('untamed', 'ADJ'), ('boys', 'ADJ'), ('singing', 'ADJ'), ('love', 'ADJ'), ('siren', 'ADJ'), ('from', 'ADJ'), ('my', 'ADJ'), ('ambulance', 'ADJ')]\n",
            "------------------------------------------------------------\n",
            "Tweet: or pulling over for an ambulance\n",
            "Tags : [('or', 'CONJ'), ('pulling', 'ADJ'), ('over', 'ADJ'), ('for', 'ADJ'), ('an', 'ADJ'), ('ambulance', 'ADJ')]\n",
            "------------------------------------------------------------\n",
            "Tweet: i hope there s going to be an ambulance waiting at the bottom because there s no way that fat lump can cli\n",
            "Tags : [('i', 'NOUN'), ('hope', 'NOUN'), ('there', 'DET'), ('s', 'NOUN'), ('going', 'VERB'), ('to', 'PRT'), ('be', 'VERB'), ('an', 'DET'), ('ambulance', 'NOUN'), ('waiting', 'ADJ'), ('at', 'ADJ'), ('the', 'ADJ'), ('bottom', 'ADJ'), ('because', 'ADJ'), ('there', 'ADJ'), ('s', 'ADJ'), ('no', 'ADJ'), ('way', 'ADJ'), ('that', 'ADJ'), ('fat', 'ADJ'), ('lump', 'ADJ'), ('can', 'ADJ'), ('cli', 'ADJ')]\n",
            "------------------------------------------------------------\n",
            "Tweet: my ambulance cover is coming ambassador for thai spring festival 2020 the delightful\n",
            "Tags : [('my', 'PRON'), ('ambulance', 'NOUN'), ('cover', 'ADJ'), ('is', 'ADJ'), ('coming', 'ADJ'), ('ambassador', 'ADJ'), ('for', 'ADJ'), ('thai', 'ADJ'), ('spring', 'ADJ'), ('festival', 'ADJ'), ('2020', 'ADJ'), ('the', 'ADJ'), ('delightful', 'ADJ')]\n",
            "------------------------------------------------------------\n",
            "Tweet: when driving drunk you can choose your way to come back home a taxi b\n",
            "Tags : [('when', 'ADV'), ('driving', 'ADJ'), ('drunk', 'ADJ'), ('you', 'ADJ'), ('can', 'ADJ'), ('choose', 'ADJ'), ('your', 'ADJ'), ('way', 'ADJ'), ('to', 'ADJ'), ('come', 'ADJ'), ('back', 'ADJ'), ('home', 'ADJ'), ('a', 'ADJ'), ('taxi', 'ADJ'), ('b', 'ADJ')]\n",
            "------------------------------------------------------------\n"
          ]
        },
        {
          "output_type": "stream",
          "name": "stderr",
          "text": [
            "/usr/local/lib/python3.12/dist-packages/nltk/tag/hmm.py:333: RuntimeWarning: overflow encountered in cast\n",
            "  X[i, j] = self._transitions[si].logprob(self._states[j])\n",
            "/usr/local/lib/python3.12/dist-packages/nltk/tag/hmm.py:335: RuntimeWarning: overflow encountered in cast\n",
            "  O[i, k] = self._output_logprob(si, self._symbols[k])\n",
            "/usr/local/lib/python3.12/dist-packages/nltk/tag/hmm.py:331: RuntimeWarning: overflow encountered in cast\n",
            "  P[i] = self._priors.logprob(si)\n",
            "/usr/local/lib/python3.12/dist-packages/nltk/tag/hmm.py:363: RuntimeWarning: overflow encountered in cast\n",
            "  O[i, k] = self._output_logprob(si, self._symbols[k])\n"
          ]
        }
      ]
    },
    {
      "cell_type": "code",
      "source": [
        "import numpy as np\n",
        "from sklearn.manifold import TSNE\n",
        "import matplotlib.pyplot as plt\n",
        "\n",
        "tokenized_all = [nltk.word_tokenize(t) for t in tweets if len(t) > 0]\n",
        "model = Word2Vec(sentences=tokenized_all, vector_size=100, window=5, min_count=2, workers=4, epochs=20)\n",
        "\n",
        "vocab = list(model.wv.index_to_key)[:300]\n",
        "vecs = [model.wv[w] for w in vocab]\n",
        "\n",
        "vecs_array = np.array(vecs)\n",
        "\n",
        "tsne = TSNE(n_components=2, perplexity=30, random_state=42, init='pca', learning_rate='auto')\n",
        "coords = tsne.fit_transform(vecs_array)\n",
        "\n",
        "plt.figure(figsize=(10,7))\n",
        "plt.scatter(coords[:,0], coords[:,1])\n",
        "\n",
        "group_a = [\"water\",\"food\",\"shelter\"]\n",
        "group_b = [\"flood\",\"earthquake\",\"storm\"]\n",
        "\n",
        "for i, w in enumerate(vocab):\n",
        "    if w in group_a or w in group_b:\n",
        "        plt.text(coords[i,0], coords[i,1], w, fontsize=9, fontweight='bold', color='red')\n",
        "    elif i % 20 == 0:\n",
        "        plt.text(coords[i,0], coords[i,1], w, fontsize=6)\n",
        "\n",
        "plt.title(\"t-SNE Visualization of Word Embeddings (Word2Vec)\")\n",
        "plt.show()"
      ],
      "metadata": {
        "colab": {
          "base_uri": "https://localhost:8080/",
          "height": 622
        },
        "id": "WxLvondn6-Ao",
        "outputId": "41b0e66f-e687-4b06-b939-4671d9eb230b"
      },
      "execution_count": 25,
      "outputs": [
        {
          "output_type": "display_data",
          "data": {
            "text/plain": [
              "<Figure size 1000x700 with 1 Axes>"
            ],
            "image/png": "[encoded data removed]"
          },
          "metadata": {}
        }
      ]
    },
    {
      "cell_type": "code",
      "source": [
        "\n",
        "def label_tweet_simple(t):\n",
        "    keywords = ['need','help','urgent','require','rescue','trapped','evacuate']\n",
        "    return 'relief_request' if any(k in t for k in keywords) else 'general_info'\n",
        "\n",
        "labels = [label_tweet_simple(t) for t in tweets]\n",
        "\n",
        "vectorizer = TfidfVectorizer(ngram_range=(1,2), min_df=2)\n",
        "X = vectorizer.fit_transform(tweets)\n",
        "y = labels\n",
        "\n",
        "X_train, X_test, y_train, y_test = train_test_split(X, y, test_size=0.25, random_state=42, stratify=y)\n",
        "\n",
        "model_nb = MultinomialNB()\n",
        "model_nb.fit(X_train, y_train)\n",
        "y_pred = model_nb.predict(X_test)\n",
        "\n",
        "print(\"Accuracy:\", accuracy_score(y_test, y_pred))\n",
        "print(\"\\nClassification Report:\\n\", classification_report(y_test, y_pred))\n",
        "print(\"Confusion Matrix:\\n\", confusion_matrix(y_test, y_pred))\n"
      ],
      "metadata": {
        "colab": {
          "base_uri": "https://localhost:8080/"
        },
        "id": "B4ME-mhM7NZI",
        "outputId": "52e102f8-d925-446d-88b7-40a68b988562"
      },
      "execution_count": 26,
      "outputs": [
        {
          "output_type": "stream",
          "name": "stdout",
          "text": [
            "Accuracy: 0.9395005276116778\n",
            "\n",
            "Classification Report:\n",
            "                 precision    recall  f1-score   support\n",
            "\n",
            "  general_info       0.94      1.00      0.97      2661\n",
            "relief_request       1.00      0.05      0.10       182\n",
            "\n",
            "      accuracy                           0.94      2843\n",
            "     macro avg       0.97      0.53      0.54      2843\n",
            "  weighted avg       0.94      0.94      0.91      2843\n",
            "\n",
            "Confusion Matrix:\n",
            " [[2661    0]\n",
            " [ 172   10]]\n"
          ]
        }
      ]
    }
  ]
}